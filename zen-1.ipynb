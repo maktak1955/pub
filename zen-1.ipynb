{
 "cells": [
  {
   "cell_type": "code",
   "execution_count": 4,
   "id": "a7252674-1e55-451a-80e9-9c6fc706f084",
   "metadata": {},
   "outputs": [
    {
     "name": "stdout",
     "output_type": "stream",
     "text": [
      "28\n",
      "[2028, 374, 264, 1296, 369, 87272, 5963, 13]\n",
      "8\n",
      "28\n",
      "[37271, 55031, 83, 1609, 5963, 16144, 20251, 11972, 29220, 16073, 71493, 65299, 52414, 57933, 71634, 30512, 23039, 61689]\n",
      "18\n"
     ]
    }
   ],
   "source": [
    "# !pip install tiktoken\n",
    "import tiktoken\n",
    "\n",
    "encoding = tiktoken.encoding_for_model('gpt-3.5-turbo')\n",
    "text = \"This is a test for tiktoken.\"\n",
    "tokens = encoding.encode(text)\n",
    "print(len(text))  # 28\n",
    "print(tokens)  # [2028, 374, 264, 1296, 369, 87272, 5963, 13]\n",
    "print(len(tokens))  # 8\n",
    "\n",
    "text = \"今からtiktokenのトークンカウントテストを行います\"\n",
    "tokens = encoding.encode(text)\n",
    "print(len(text))  # 28\n",
    "print(tokens)  # [37271, 55031, 83, 1609, 5963, ...\n",
    "print(len(tokens))  # 18"
   ]
  },
  {
   "cell_type": "code",
   "execution_count": null,
   "id": "a2efe5c2-6f47-45cb-a344-5d28cf1890ed",
   "metadata": {},
   "outputs": [],
   "source": []
  },
  {
   "cell_type": "code",
   "execution_count": null,
   "id": "91053e65-5001-4bc6-930b-9234ccf1f63a",
   "metadata": {},
   "outputs": [],
   "source": []
  }
 ],
 "metadata": {
  "kernelspec": {
   "display_name": "Python 3 (ipykernel)",
   "language": "python",
   "name": "python3"
  },
  "language_info": {
   "codemirror_mode": {
    "name": "ipython",
    "version": 3
   },
   "file_extension": ".py",
   "mimetype": "text/x-python",
   "name": "python",
   "nbconvert_exporter": "python",
   "pygments_lexer": "ipython3",
   "version": "3.8.10"
  }
 },
 "nbformat": 4,
 "nbformat_minor": 5
}
